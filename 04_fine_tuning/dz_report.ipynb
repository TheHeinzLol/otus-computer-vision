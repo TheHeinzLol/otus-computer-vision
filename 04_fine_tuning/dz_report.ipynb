{
 "cells": [
  {
   "cell_type": "markdown",
   "id": "ff5d8109",
   "metadata": {},
   "source": [
    "# Домашнее задание №5: \"Катастрофическое забывание\"\n",
    "\n",
    "В домашней работе необходимо показать в действии проблему \"катастрофического забывания\".\n",
    "\n",
    "**План для домашней работы:**\n",
    "- Обучить исходную модель на датасете Food101 и проверить ее качество\n",
    "- Дообучить модель на датасете STL10 с помощью Transfer Learning Fine-Tuning\n",
    "- Вернуть полносвязную сеть для датасета Food101 и проверить качество модели на данном датасете\n",
    "- Дообучить только полносвязный слой на Food101 и проверить удалось ли добиться исходного качества."
   ]
  },
  {
   "cell_type": "code",
   "execution_count": 1,
   "id": "11bd636d",
   "metadata": {},
   "outputs": [],
   "source": [
    "import random\n",
    "import os\n",
    "import inspect \n",
    "\n",
    "import timm\n",
    "import torch\n",
    "from torch import nn\n",
    "import torch.nn.functional as F\n",
    "from torchvision.datasets import STL10, Food101\n",
    "import torchvision.transforms as T\n",
    "from torch.utils.data import DataLoader\n",
    "from sklearn.metrics import accuracy_score\n",
    "import numpy as np\n",
    "from tqdm.notebook import tqdm\n",
    "import pytorch_lightning as pl\n",
    "from pytorch_lightning.callbacks import EarlyStopping, ModelCheckpoint, TQDMProgressBar\n",
    "from torch import optim\n",
    "import matplotlib.pyplot as plt\n",
    "from IPython import display"
   ]
  },
  {
   "cell_type": "markdown",
   "id": "182b1510",
   "metadata": {},
   "source": [
    "## 1 Проверка качества исходной модели на датасете Food101\n",
    "\n",
    "Для проведения эксперимента вначале обучим модель с нуля на датасете Food101 до устойчивых показателей обучения (cross-entropy и accuracy).\n",
    "\n",
    "### 1.1 Создание вспомогательных классов\n",
    "#### 1.1.1 Функция подсчета accuracy"
   ]
  },
  {
   "cell_type": "code",
   "execution_count": 2,
   "id": "b770f444",
   "metadata": {},
   "outputs": [],
   "source": [
    "def check_model_accuracy(model: torch.nn.Module, dataloader: torch.utils.data.DataLoader):\n",
    "    \"\"\" Подсчет Accuracy Score для модели\n",
    "    \n",
    "    Параметры\n",
    "    ---------\n",
    "    model: torch.nn.Module\n",
    "    dataloader : torch.utils.data.DataLoader\n",
    "      Загрузчик должен быть сформирован на базе класса imagenetlib.ImageNetteDataset\n",
    "      \n",
    "    Результат\n",
    "    ---------\n",
    "    accuracy_score : float\n",
    "    \"\"\"\n",
    "    \n",
    "    model.eval()\n",
    "    device = 'cuda' if torch.cuda.is_available() else 'cpu'\n",
    "    model = model.to(device)\n",
    "    batch_accuracy_list = []\n",
    "    for batch in tqdm(dataloader):\n",
    "        if isinstance(batch, dict):\n",
    "            image, target = batch['image'], batch['target']\n",
    "        else:\n",
    "            image, target = batch\n",
    "        image = image.to(device)\n",
    "        batch_predict = torch.argmax(model(image), axis=1)\n",
    "        batch_accuracy = accuracy_score(batch_predict.cpu(), target)\n",
    "        batch_accuracy_list.append(batch_accuracy)\n",
    "        \n",
    "    return np.mean(batch_accuracy_list)"
   ]
  },
  {
   "cell_type": "markdown",
   "id": "b593fc64",
   "metadata": {},
   "source": [
    "#### 1.1.2 Класс для загрузки стандартных датасетов torchvision"
   ]
  },
  {
   "cell_type": "code",
   "execution_count": 3,
   "id": "576edc0a",
   "metadata": {},
   "outputs": [],
   "source": [
    "class StandardTorchDataModule(pl.LightningDataModule):\n",
    "    \n",
    "    \"\"\" Загрузчик PyTorch Lighting для стандартных датасетов\n",
    "    из pytorchvision\n",
    "    \n",
    "    !!! Тестировался не со всеми классами\n",
    "    \n",
    "    Параметры\n",
    "    ---------\n",
    "    dataset_class : pytorch Dataset\n",
    "      Класс стандартного датасета из pytorchvision\n",
    "    train_loader_params : dict\n",
    "      Словарь для параметров DataLoader обучающего датасета.\n",
    "      Имеет следующие ключи:\n",
    "        - batch_size (по умолчанию 16)\n",
    "        - shuffle (по умолчанию True)\n",
    "        - num_workers (по умолчанию 2)\n",
    "        - drop_last (по умолчанию True)\n",
    "    val_loader_params : dict\n",
    "      Словарь для параметров DataLoader валидационного датасета.\n",
    "      Имеет следующие ключи:\n",
    "        - batch_size (по умолчанию 16)\n",
    "        - shuffle (по умолчанию False)\n",
    "        - num_workers (по умолчанию 2)\n",
    "        - drop_last (по умолчанию False)\n",
    "    train_transforms : T.Compose\n",
    "      Трансформации для обучающей части. По умолчанию None.\n",
    "    val_transforms : T.Compose\n",
    "      Трансформации для валидационной части. По умолчанию None.\n",
    "    seed : int\n",
    "      Фиксация генератора случайных чисел.\n",
    "    \"\"\"\n",
    "\n",
    "    def __init__(self, dataset_class, name, train_loader_params=None, val_loader_params=None, \n",
    "                 train_transforms=None, val_transforms=None, seed=None):\n",
    "\n",
    "        super().__init__()\n",
    "\n",
    "        if seed is not None:\n",
    "            set_seed(seed)\n",
    "            \n",
    "        self._dataset_class = dataset_class\n",
    "        self._name = name\n",
    "\n",
    "        if not train_loader_params:\n",
    "            train_loader_params = {\n",
    "                'batch_size': 16,\n",
    "                'shuffle': True,\n",
    "                'num_workers': 2,\n",
    "                'drop_last': True,\n",
    "            }\n",
    "\n",
    "        if not val_loader_params:\n",
    "            val_loader_params = {\n",
    "                'batch_size': 16,\n",
    "                'shuffle': False,\n",
    "                'num_workers': 2,\n",
    "                'drop_last': False\n",
    "            }\n",
    "\n",
    "        self.train_loader_params = train_loader_params\n",
    "        self.val_loader_params = val_loader_params\n",
    "        \n",
    "        self._train_transforms = train_transforms\n",
    "        self._val_transforms = val_transforms\n",
    "        \n",
    "    def setup(self, stage=None):\n",
    "        \n",
    "        dataset_params_sig = inspect.signature(self._dataset_class.__init__)\n",
    "        if 'train' in dataset_params_sig.parameters.keys():\n",
    "            \n",
    "            train_split_params = {\n",
    "                'train': True,\n",
    "            }\n",
    "            val_split_params = {\n",
    "                'train': False,\n",
    "            }\n",
    "        else:\n",
    "            train_split_params = {\n",
    "                'split': 'train',\n",
    "            }\n",
    "            val_split_params = {\n",
    "                'split': 'test',\n",
    "            }\n",
    "        \n",
    "        self._train_dataset = self._dataset_class(self._name, download=True, transform=self._train_transforms,\n",
    "                                                  **train_split_params)\n",
    "        self._val_dataset = self._dataset_class(self._name, download=True, transform=self._val_transforms, **val_split_params)\n",
    "\n",
    "    def train_dataloader(self):\n",
    "        return DataLoader(self._train_dataset, batch_size=self.train_loader_params['batch_size'],\n",
    "                          shuffle=self.train_loader_params['shuffle'], drop_last=self.train_loader_params['drop_last'],\n",
    "                          num_workers=self.train_loader_params['num_workers'])\n",
    "\n",
    "    def val_dataloader(self):\n",
    "        return DataLoader(self._val_dataset, batch_size=self.val_loader_params['batch_size'],\n",
    "                          drop_last=self.val_loader_params['drop_last'], shuffle=self.val_loader_params['shuffle'],\n",
    "                          num_workers=self.val_loader_params['num_workers'])"
   ]
  },
  {
   "cell_type": "markdown",
   "id": "4c46ba2a",
   "metadata": {},
   "source": [
    "#### 1.1.3 Класс HybridModel\n",
    "\n",
    "Данный класс предназначен для удобного проведения эксперимента в рамках данной домашней работы.\n",
    "\n",
    "Мы можем инициализировать любую модель из коллекции фреймворка timm и создать для нее два разных полносвязных слоя, которые можно менять на лету.\n",
    "\n",
    "Пример инициализации модели:\n",
    "\n",
    "> model = HybridModel(model_name='resnet18', fc_size_model1=101, fc_size_model2=10, pretrained=False, learning_rate=0.001)\n",
    "\n",
    "Для проведения эксперимента реализованы следующие методы:\n",
    "\n",
    "- set_fc_imagenet (возвращаем исходную полносвязную сеть исходной модели)\n",
    "- set_fc_model1 (устанавливаем полносвязный слой для модели №1, размер выхода указывается в параметре fc_size_model1)\n",
    "- set_fc_model2 (устанавливаем полносвязный слой для модели №2, размер выхода указывается в параметре fc_size_model2)\n",
    "- freeze_layers (заморозка градиента от начала модели вплоть до указанного layer_name без него самого)\n",
    "- unfreeze_all (разморозка градиентов всей модели)\n",
    "- init_opt_parameters (можно указать какие параметры будут передаваться в оптимизатор, все или только параметры полносвязной сети)"
   ]
  },
  {
   "cell_type": "code",
   "execution_count": 4,
   "id": "cfc7e4dd",
   "metadata": {},
   "outputs": [],
   "source": [
    "class HybridModel(pl.LightningModule):\n",
    "    \"\"\" Модель для обучения гибридной модели.\n",
    "    \n",
    "    Позволяет переключать на лету слой полносвязной сети для двух вариантов модели.\n",
    "    А также позволяет заморозить определенные слои модели и определить какие параметры\n",
    "    пойдут в омтимизатор.\n",
    "    \n",
    "    По умолчанию полносвязный слой устанавливается размером из параметра fc_size_model1\n",
    "    и в оптимизатор подаются все параметры модели.\n",
    "    \n",
    "    \n",
    "    Параметры\n",
    "    ---------\n",
    "    model_name : str\n",
    "      Название модели (должен поддерживать фреймворк timm).\n",
    "      По умолчанию resnet18\n",
    "    fc_size_model1 : int\n",
    "      Размер полносвязного слоя на выходе для модели 1\n",
    "    fc_size_model2 : int\n",
    "      Размер полносвязного слоя на выходе для модели 2\n",
    "    pretrained : bool\n",
    "      Если True, то будут загружены веса для предварительно обученной модели\n",
    "      По умолчанию True.\n",
    "    learning_rate : float\n",
    "      Скорость обучения модели. По умолчанию 0.001.\n",
    "    l2_regularization : float\n",
    "      Размер L2-регуляризации, по умолчанию 0.01\n",
    "    adam_betas : tuple\n",
    "      Коэффициенты для оптимизатора Adam.\n",
    "      По умолчанию (0.99, 0.999).\n",
    "    plot_epoch_loss : bool\n",
    "      Если True, то после каждой эпохи обучения и валидации будет выводиться график с результатами обучения\n",
    "    seed : int\n",
    "    \"\"\"\n",
    "    def __init__(self, model_name: str='resnet18', fc_size_model1: int=40, fc_size_model2: int=10, pretrained: bool =True, \n",
    "                 learning_rate: float = 0.001, l2_regularization: float = 0.01, adam_betas: (float, float) = (0.99, 0.999), \n",
    "                 plot_epoch_loss: bool = True, seed: int = None):\n",
    "        \n",
    "        super().__init__()\n",
    "        \n",
    "        if seed is not None:\n",
    "            set_seed(seed)\n",
    "        \n",
    "        self._model = timm.create_model(model_name, pretrained=pretrained)\n",
    "        \n",
    "        if 'fc' in self._model.__dir__():\n",
    "            self.__fc_name = 'fc'\n",
    "            current_fc = self._model.fc\n",
    "            fc_in_features = self._model.fc.in_features\n",
    "        elif 'head' in self._model.__dir__():\n",
    "            self.__fc_name = 'head'\n",
    "            current_fc = self._model.head\n",
    "            fc_in_features = self._model.head.in_features\n",
    "        elif 'classifier' in self._model.__dir__():\n",
    "            self.__fc_name = 'classifier'\n",
    "            if isinstance(self._model.classifier, nn.Linear):\n",
    "                current_fc = self._model.classifier\n",
    "                fc_in_features = self._model.classifier.in_features\n",
    "            else:\n",
    "                # Обычно модели с блоком classifier содержат последовательность слоев.\n",
    "                # Бывает такое, что первым слоем идет Dropout и у него нет параметра in_features\n",
    "                try:\n",
    "                    current_fc = self._model.classifier[0]\n",
    "                    fc_in_features = self._model.classifier[0].in_features\n",
    "                except:\n",
    "                    current_fc = self._model.classifier[1]\n",
    "                    fc_in_features = self._model.classifier[1].in_features\n",
    "        else:\n",
    "            raise Exception(\"В модели не найден блок полносвязной сети\")\n",
    "        \n",
    "        self._fc_layers_dict = {\n",
    "            'model1': nn.Linear(fc_in_features, fc_size_model1),\n",
    "            'model2': nn.Linear(fc_in_features, fc_size_model2),\n",
    "            'imagenet': current_fc,\n",
    "        }\n",
    "        \n",
    "        \n",
    "        # Заменяем у модели полносвязный слой на сгенерированный\n",
    "        setattr(self._model, self.__fc_name, self._fc_layers_dict['model1'])\n",
    "        \n",
    "        # Устанавливаем тип модели, требуется для корректной смены полносвязных слоев\n",
    "        self.__model_type = 'model1'\n",
    "        self.__opt_params_type = 'full'\n",
    "        self.init_opt_parameters(params_type=self.__opt_params_type)\n",
    "        \n",
    "        self.plot_epoch_loss = plot_epoch_loss\n",
    "        self.learning_rate = learning_rate\n",
    "        self.l2_regularization = l2_regularization\n",
    "        self.adam_betas = adam_betas\n",
    "        \n",
    "        self.init_train_stats()\n",
    "\n",
    "        self.save_hyperparameters()\n",
    "        \n",
    "    def init_train_stats(self):\n",
    "        # Словарь для хранения значения ошибок на стадии обучения и валидации\n",
    "        # Для значений типа train добавляем значение np.nan, так как при первом запуске модель вначале осуществляет\n",
    "        # шаг валидации без обучения и добавляет значения в списки типа val. Это будет считаться эпохой №0.\n",
    "        self.train_history = {\n",
    "            'train_loss': [np.nan],\n",
    "            'train_acc': [np.nan],\n",
    "            'val_loss': [],\n",
    "            'val_acc': [],\n",
    "        }\n",
    "        \n",
    "    def init_opt_parameters(self, params_type='full'):\n",
    "        \"\"\" Инициализируем параметры модели для подачи в омтимизатор\n",
    "        \n",
    "        Параметры\n",
    "        ---------\n",
    "        params_type : str\n",
    "          Тип параметров для оптимизатора.\n",
    "          Принимает значения full или fc.\n",
    "          В случае fc в оптимизатор пойдут только параметры полносвязного слоя.\n",
    "        \"\"\"\n",
    "        \n",
    "        params_type = str(params_type).strip().lower()\n",
    "        assert params_type in ('full', 'fc')\n",
    "        \n",
    "        if params_type == 'full':\n",
    "            self._opt_parameters = self._model.parameters()\n",
    "        else:\n",
    "            self._opt_parameters = getattr(self._model, self.__fc_name).parameters()\n",
    "            \n",
    "        self.__opt_params_type = params_type\n",
    "        \n",
    "    def freeze_layers(self, layer_name: str):\n",
    "        \"\"\" Заморозка градиента от начала модели \n",
    "        вплоть до указанного layer_name без него самого\n",
    "        \n",
    "        Параметры\n",
    "        ---------\n",
    "        layer_name : str\n",
    "          Название слоя, вплоть до которого нужно выполнить заморозку\n",
    "        \"\"\"\n",
    "        \n",
    "        all_layers_names = [name for name, _ in self._model.named_modules()]\n",
    "        assert layer_name in all_layers_names, \"Указанный слой отсутствует в модели\"\n",
    "        \n",
    "        for param_name, param in self._model.named_parameters():\n",
    "            \n",
    "            if layer_name in param_name:\n",
    "                break\n",
    "                \n",
    "            # Не выключаем обучение параметров у всех блоков Batch Normalization\n",
    "                if 'bn' in name:\n",
    "                    continue\n",
    "                    \n",
    "            param.requires_grad = False\n",
    "            \n",
    "        # При изменении параметра requires_grad требуется инициализация \n",
    "        # параметров оптимизатора, так как предыдущие параметры исчезают\n",
    "        self.init_opt_parameters(params_type=self.__opt_params_type)\n",
    "            \n",
    "    def unfreeze_all(self):\n",
    "        \"\"\" Разморозка градиентов всей модели \"\"\"\n",
    "        \n",
    "        for param_name, param in self._model.named_parameters():\n",
    "            param.requires_grad = True\n",
    "            \n",
    "        # При изменении параметра requires_grad требуется инициализация \n",
    "        # параметров оптимизатора, так как предыдущие параметры исчезают\n",
    "        self.init_opt_parameters(params_type=self.__opt_params_type)\n",
    "        \n",
    "    def _set_fc(self, model_type):\n",
    "        \"\"\" Смена полносвязной сети на выходе модели\n",
    "        \n",
    "        Параметры\n",
    "        ---------\n",
    "        model_type : str\n",
    "          Тип модели. Принимает значения model1, model2 или imagenet\n",
    "        \"\"\"\n",
    "        \n",
    "        model_type = str(model_type).strip().lower()\n",
    "        assert model_type in ('model1', 'model2', 'imagenet')\n",
    "        \n",
    "        if not self.__fc_name == 'classifier':\n",
    "            setattr(self._model, self.__fc_name, self._fc_layers_dict[model_type])\n",
    "        else:\n",
    "            if isinstance(self._model.classifier, nn.Linear) or isinstance(self._model.classifier[0], nn.Linear):\n",
    "                setattr(self._model, self.__fc_name, self._fc_layers_dict[model_type])\n",
    "            else:\n",
    "                self._model.classifier[1] = self._fc_layers_dict[model_type]\n",
    "            \n",
    "        self.__model_type = model_type\n",
    "            \n",
    "    def set_fc_imagenet(self):\n",
    "        \"\"\" Устанавливаем в качестве полносвязной сети слой от ImageNet\n",
    "        \n",
    "        Текущий полносвязный слой с его весами сохраняется и его можно вернуть\n",
    "        с помощью такого же метода для другой сети\n",
    "        \"\"\"\n",
    "        self._set_fc(model_type='imagenet')\n",
    "            \n",
    "    def set_fc_model1(self):\n",
    "        \"\"\" Устанавливаем в качестве полносвязной сети слой от Model1\n",
    "        \n",
    "        Текущий полносвязный слой с его весами сохраняется и его можно вернуть\n",
    "        с помощью такого же метода для другой сети\n",
    "        \"\"\"\n",
    "        self._set_fc(model_type='model1')\n",
    "        \n",
    "    def set_fc_model2(self):\n",
    "        \"\"\" Устанавливаем в качестве полносвязной сети слой от Model2\n",
    "        \n",
    "        Текущий полносвязный слой с его весами сохраняется и его можно вернуть\n",
    "        с помощью такого же метода для другой сети\n",
    "        \"\"\"\n",
    "        self._set_fc(model_type='model2')\n",
    "        \n",
    "    def forward(self, x_in: torch.tensor):\n",
    "        forward_data = self._model(x_in)\n",
    "        return forward_data\n",
    "\n",
    "    def configure_optimizers(self):\n",
    "        \"\"\"Конфигурация оптимизатора и планировщика скорости обучения\"\"\"\n",
    "            \n",
    "        optimizer = optim.AdamW(self._opt_parameters, betas=self.adam_betas, lr=self.learning_rate,\n",
    "                                weight_decay=self.l2_regularization)\n",
    "        sheduler = optim.lr_scheduler.CosineAnnealingWarmRestarts(optimizer,\n",
    "                                                                  T_0=20,\n",
    "                                                                  eta_min=1e-4)\n",
    "\n",
    "        return [optimizer], [sheduler]\n",
    "\n",
    "    def _share_step(self, batch: dict, batch_idx: int, mode: str = 'train'):\n",
    "        \"\"\" Общий шаг для обучения, валидации и теста\n",
    "        Параметры\n",
    "        ---------\n",
    "        batch : dict\n",
    "          Батч-словарь в следующем формате:\n",
    "          {\n",
    "          'img': список тензоров изображения размером N x C x H x W,\n",
    "          'image_path': список путей к файлам изображений,\n",
    "          'target': список целевых значений,\n",
    "          'parrot_name': список человекочитаемых имен попугаев,\n",
    "          }\n",
    "        batch_idx : int\n",
    "          Номер батча\n",
    "        mode : str\n",
    "          Режим. Используется только для префикса названий ошибок в логе.\n",
    "          По умолчанию train\n",
    "        \"\"\"\n",
    "\n",
    "        # Датасет CIFAR10 генерирует кортежи\n",
    "        # Датасет ImageNette генерирует словари\n",
    "        if isinstance(batch, dict):\n",
    "            batch_images = batch['image']\n",
    "            target_true = batch['target']\n",
    "        else:\n",
    "            batch_images, target_true = batch\n",
    "            \n",
    "        target_pred = self(batch_images)\n",
    "\n",
    "        # Считаем ошибку Binary Cross Entropy и логируем ее\n",
    "        cross_entropy_loss = F.cross_entropy(target_pred, target_true)\n",
    "        self.log(f'cross_entropy_{mode}_loss', cross_entropy_loss, prog_bar=True)\n",
    "        \n",
    "        acc_loss = accuracy_score(target_true.detach().cpu(), np.argmax(target_pred.detach().cpu(), axis=1).flatten())\n",
    "        self.log(f'acc_{mode}_loss', acc_loss, prog_bar=True)\n",
    "\n",
    "        return {'loss': cross_entropy_loss, 'acc_loss': acc_loss}\n",
    "\n",
    "    def training_step(self, batch: dict, batch_idx: int):\n",
    "        \"\"\"Шаг обучения\"\"\"\n",
    "        return self._share_step(batch, batch_idx, mode='train')\n",
    "\n",
    "    def training_epoch_end(self, outputs: list):\n",
    "        \"\"\"Действия после окончания каждой эпохи обучения\n",
    "        Параметры\n",
    "        ---------\n",
    "        outputs : list\n",
    "          Список словарей. Каждый словарь - результат функции self._share_step для определенного батча на шаге обучения\n",
    "        \"\"\"\n",
    "\n",
    "        # Считаем средние ошибки loss и acc_loss по эпохе\n",
    "        avg_train_loss = torch.tensor([x['loss'] for x in outputs]).detach().mean()\n",
    "        avg_acc_loss = torch.tensor([x['acc_loss'] for x in outputs]).detach().mean()\n",
    "\n",
    "        # Добавляем средние ошибки в словарь статистики обучения, используется для построение графиков\n",
    "        self.train_history['train_loss'].append(avg_train_loss.numpy().item())\n",
    "        self.train_history['train_acc'].append(avg_acc_loss.numpy().item())\n",
    "\n",
    "        # Если включено отображение графика обучения в конце эпохи, то рисуем графики\n",
    "        if self.plot_epoch_loss:\n",
    "            self.plot_history_loss()\n",
    "\n",
    "    def validation_step(self, batch: dict, batch_idx: int):\n",
    "        \"\"\" Шаг валидации \"\"\"\n",
    "        return self._share_step(batch, batch_idx, mode='val')\n",
    "\n",
    "    def validation_epoch_end(self, outputs: list):\n",
    "        \"\"\"Действия после окончания каждой эпохи валидации\n",
    "        Параметры\n",
    "        ---------\n",
    "        outputs : list\n",
    "          Список словарей.\n",
    "          Каждый словарь - результат функции self._share_step для определенного батча на шаге валидации\n",
    "        \"\"\"\n",
    "\n",
    "        # Считаем средние ошибки loss и rmse_loss по эпохе\n",
    "        avg_val_loss = torch.tensor([x['loss'] for x in outputs]).detach().mean()\n",
    "        avg_acc_loss = torch.tensor([x['acc_loss'] for x in outputs]).detach().mean()\n",
    "        \n",
    "        # Логируем ошибку валидации\n",
    "        self.log(f'val_loss', avg_val_loss, prog_bar=True)\n",
    "\n",
    "        # Добавляем средние ошибки в словарь статистики обучения, используется для построение графиков\n",
    "        self.train_history['val_loss'].append(avg_val_loss.numpy().item())\n",
    "        self.train_history['val_acc'].append(avg_acc_loss.numpy().item())\n",
    "\n",
    "        # Если включено отображение графика обучения в конце эпохи, то рисуем графики\n",
    "        if self.plot_epoch_loss:\n",
    "            self.plot_history_loss()\n",
    "\n",
    "    def plot_history_loss(self, clear_output: bool = True):\n",
    "        \"\"\" Функция построения графика обучения в конце эпохи\n",
    "        \n",
    "        Параметры\n",
    "        clear_output : bool\n",
    "          Если True, то после каждой эпохи график будет обновляться,\n",
    "          а не печататься новый.\n",
    "        \"\"\"\n",
    "\n",
    "        fig, axes = plt.subplots(1, 2, figsize=(15, 5))\n",
    "\n",
    "        axes[0].plot(np.arange(0, len(self.train_history['train_loss'])),\n",
    "                     self.train_history['train_loss'],\n",
    "                     label=\"train_loss\")\n",
    "        axes[0].scatter(np.arange(0, len(self.train_history['train_loss'])),\n",
    "                     self.train_history['train_loss'])\n",
    "        axes[0].plot(np.arange(0, len(self.train_history['val_loss'])),\n",
    "                     self.train_history['val_loss'],\n",
    "                     label=\"val_loss\")\n",
    "        axes[0].scatter(np.arange(0, len(self.train_history['val_loss'])),\n",
    "                     self.train_history['val_loss'])\n",
    "        axes[0].legend(loc='best')\n",
    "        axes[0].set_xlabel(\"epochs\")\n",
    "        axes[0].set_ylabel(\"loss\")\n",
    "        if len(self.train_history['val_loss'])> 1:\n",
    "            val_loss_epoch_min = np.argmin(self.train_history['val_loss'][1:]) + 1\n",
    "            val_loss_min = self.train_history['val_loss'][val_loss_epoch_min]\n",
    "            val_loss_min = round(val_loss_min, 3) if not np.isnan(val_loss_min) else val_loss_min\n",
    "            title_min_vals = f'\\nValidation minimum {val_loss_min} on epoch {val_loss_epoch_min}'\n",
    "        else:\n",
    "            title_min_vals = \"\"\n",
    "        axes[0].set_title('MODEL LOSS: CROSS ENTROPY'+title_min_vals)\n",
    "        axes[0].grid()\n",
    "\n",
    "        axes[1].plot(np.arange(0, len(self.train_history['train_acc'])),\n",
    "                     self.train_history['train_acc'], label=\"train_acc\")\n",
    "        axes[1].scatter(np.arange(0, len(self.train_history['train_acc'])),\n",
    "                     self.train_history['train_acc'])\n",
    "        axes[1].plot(np.arange(0, len(self.train_history['val_acc'])),\n",
    "                     self.train_history['val_acc'], label=\"val_acc\")\n",
    "        axes[1].scatter(np.arange(0, len(self.train_history['val_acc'])),\n",
    "                     self.train_history['val_acc'])\n",
    "        axes[1].legend(loc='best')\n",
    "        axes[1].set_xlabel(\"epochs\")\n",
    "        axes[1].set_ylabel(\"accuracy\")\n",
    "        \n",
    "        if len(self.train_history['val_acc'])> 1:\n",
    "            val_acc_epoch_max = np.argmax(self.train_history['val_acc'][1:]) + 1\n",
    "            val_acc_max = self.train_history['val_acc'][val_acc_epoch_max]\n",
    "            val_acc_max = round(val_acc_max, 3) if not np.isnan(val_acc_max) else val_acc_max\n",
    "            title_max_vals = f'\\nValidation maximum {val_acc_max} on epoch {val_acc_epoch_max}'\n",
    "        else:\n",
    "            title_max_vals = \"\"\n",
    "        axes[1].set_title('MONITORING LOSS: Accuracy'+title_max_vals)\n",
    "        axes[1].grid()\n",
    "\n",
    "        plt.show()\n",
    "        if clear_output:\n",
    "            display.clear_output(wait=True)"
   ]
  },
  {
   "cell_type": "markdown",
   "id": "71d502d3",
   "metadata": {},
   "source": [
    "### 1.2 Обучение модели на датасете Food101\n",
    "\n",
    "Для части датасета обучения включим случайную аугментацию, а также нормализуем с помощью средних и СКО от датасета ImageNet.\n",
    "\n",
    "Полносвязный слой для Food101 должен иметь 101 выход, поэтому fc_size_model1 = 101. А полносвязный слой для STL10 должен иметь 10 выходов, поэтому fc_size_model2 = 10. \n",
    "\n",
    "В качестве модели выберем resnet18."
   ]
  },
  {
   "cell_type": "code",
   "execution_count": 5,
   "id": "f54ac969",
   "metadata": {},
   "outputs": [],
   "source": [
    "SEED = 42\n",
    "\n",
    "train_transforms = T.Compose(\n",
    "                [\n",
    "                 T.Resize([96, 96]),\n",
    "                 T.RandAugment(),\n",
    "                 T.PILToTensor(),\n",
    "                 T.ConvertImageDtype(torch.float32),\n",
    "                 T.Normalize(std=(0.229, 0.224, 0.225), mean=(0.485, 0.456, 0.406)),\n",
    "                ]\n",
    "        )\n",
    "\n",
    "val_transforms = T.Compose(\n",
    "                [\n",
    "                 T.Resize([96, 96]),\n",
    "                 T.PILToTensor(),\n",
    "                 T.ConvertImageDtype(torch.float32),\n",
    "                 T.Normalize(std=(0.229, 0.224, 0.225), mean=(0.485, 0.456, 0.406)),\n",
    "                ]\n",
    "        )\n",
    "\n",
    "config_model = {'seed': SEED,\n",
    "    'model': {\n",
    "        'model_name': 'resnet18',\n",
    "        'fc_size_model1': 101,\n",
    "        'fc_size_model2': 10,\n",
    "        'plot_epoch_loss': True,\n",
    "        'learning_rate': 0.0001, \n",
    "        'l2_regularization': 0.01,\n",
    "        'adam_betas': (0.99, 0.999),\n",
    "        'pretrained': False,\n",
    "        'seed': SEED,\n",
    "    },\n",
    "    'trainer': {\n",
    "        'max_epochs': 300,\n",
    "        'gpus': 1 if torch.cuda.is_available() else 0,\n",
    "        'resume_from_checkpoint': None,\n",
    "    },\n",
    "}\n",
    "\n",
    "food101_config_dataset = {\n",
    "    'seed': SEED,\n",
    "    'dataset_class': Food101,\n",
    "    'name': 'food101',\n",
    "    'train_transforms': train_transforms,\n",
    "    'val_transforms': val_transforms,\n",
    "    'train_loader_params': {\n",
    "        'batch_size': 16,\n",
    "        'shuffle': True,\n",
    "        'num_workers': 0,\n",
    "        'pin_memory': False,\n",
    "        'drop_last': True,\n",
    "    },\n",
    "    'val_loader_params': {\n",
    "        'batch_size': 16,\n",
    "        'shuffle': False,\n",
    "        'num_workers': 0,\n",
    "        'pin_memory': False,\n",
    "        'drop_last': False\n",
    "    }\n",
    "}"
   ]
  },
  {
   "cell_type": "code",
   "execution_count": 6,
   "id": "fbc8465f",
   "metadata": {},
   "outputs": [
    {
     "name": "stderr",
     "output_type": "stream",
     "text": [
      "GPU available: True, used: True\n",
      "TPU available: False, using: 0 TPU cores\n",
      "IPU available: False, using: 0 IPUs\n"
     ]
    }
   ],
   "source": [
    "hybrid_model = HybridModel(**config_model['model'])\n",
    "\n",
    "\n",
    "food101_datamodule = StandardTorchDataModule(**food101_config_dataset)\n",
    "\n",
    "checkpoint = ModelCheckpoint(dirpath='checkpoint_first_model/', monitor='acc_val_loss', mode='max')\n",
    "callbacks = [\n",
    "            EarlyStopping('acc_val_loss', min_delta=0.001, patience=5, mode='max'),\n",
    "            TQDMProgressBar(refresh_rate=10),\n",
    "            checkpoint\n",
    "]\n",
    "\n",
    "trainer = pl.Trainer(**config_model['trainer'], callbacks=callbacks)"
   ]
  },
  {
   "cell_type": "code",
   "execution_count": 7,
   "id": "abe300d6",
   "metadata": {},
   "outputs": [
    {
     "data": {
      "image/png": "[encoded data removed]",
      "text/plain": [
       "<Figure size 1080x360 with 2 Axes>"
      ]
     },
     "metadata": {
      "needs_background": "light"
     },
     "output_type": "display_data"
    }
   ],
   "source": [
    "trainer.fit(hybrid_model, food101_datamodule)"
   ]
  },
  {
   "cell_type": "code",
   "execution_count": 8,
   "id": "40d43d35",
   "metadata": {},
   "outputs": [],
   "source": [
    "# Загружаем модель с лучшим accuracy и сохраняем ее веса на диске\n",
    "\n",
    "hybrid_model = HybridModel.load_from_checkpoint(checkpoint.best_model_path)\n",
    "torch.save(hybrid_model.state_dict(), f'best_model_food101.pth')"
   ]
  },
  {
   "cell_type": "code",
   "execution_count": 9,
   "id": "c414419a",
   "metadata": {},
   "outputs": [
    {
     "data": {
      "application/vnd.jupyter.widget-view+json": {
       "model_id": "a74c277ede1745d184201ecdc0cc902c",
       "version_major": 2,
       "version_minor": 0
      },
      "text/plain": [
       "  0%|          | 0/1579 [00:00<?, ?it/s]"
      ]
     },
     "metadata": {},
     "output_type": "display_data"
    },
    {
     "name": "stdout",
     "output_type": "stream",
     "text": [
      "Accuracy Score 0.4963584547181761\n"
     ]
    }
   ],
   "source": [
    "model_accuracy = check_model_accuracy(hybrid_model, food101_datamodule.val_dataloader())\n",
    "print('Accuracy Score', model_accuracy)"
   ]
  },
  {
   "cell_type": "markdown",
   "id": "2322b830",
   "metadata": {},
   "source": [
    "В результате мы получили значение accuracy = 0.496 на валидационной части датасета.\n",
    "\n",
    "## 2 Адаптация модели для обучения на датасете STL10 (TransferLearning и Fine-Tuning)\n",
    "\n",
    "Что требуется сделать:\n",
    "\n",
    "- сохранить у модели текущий полносвязный слой от модели Food101\n",
    "- заменить у модели полносвязный слой на новый для датасета STL10\n",
    "- заморозить градиент для 80% модели\n",
    "- обучить модель с частично замороженными градиентами на датасете STL10\n",
    "- разморозить все слои модели и дообучить ее на 5 эпохах на датасете STL10\n",
    "- вернуть ранее обученный полносвязный слой от датасета Food101 и проверить качество модели\n",
    "- дообучить только полносвязную сеть на датасете Food101 и снова проверить качество модели"
   ]
  },
  {
   "cell_type": "markdown",
   "id": "5e6b01e6",
   "metadata": {},
   "source": [
    "### 2.1 Проведение эксперимента\n",
    "\n",
    "#### 2.2.1 Обучение модели на датасете STL10\n",
    "\n",
    "Возьмем модель, которую мы раньше обучили на датасете Food101 и заморозим все градиенты модели, которые предшествуют уровню с именем \"layer3\". Дообучим модель на датасете STL10."
   ]
  },
  {
   "cell_type": "code",
   "execution_count": 10,
   "id": "ad0f44d6",
   "metadata": {},
   "outputs": [],
   "source": [
    "train_transforms = T.Compose(\n",
    "                [\n",
    "                 T.RandAugment(),\n",
    "                 T.PILToTensor(),\n",
    "                 T.ConvertImageDtype(torch.float32),\n",
    "                 T.Normalize(std=(0.229, 0.224, 0.225), mean=(0.485, 0.456, 0.406)),\n",
    "                ]\n",
    "        )\n",
    "\n",
    "val_transforms = T.Compose(\n",
    "                [\n",
    "                 T.PILToTensor(),\n",
    "                 T.ConvertImageDtype(torch.float32),\n",
    "                 T.Normalize(std=(0.229, 0.224, 0.225), mean=(0.485, 0.456, 0.406)),\n",
    "                ]\n",
    "        )\n",
    "\n",
    "stl10_config_dataset = {\n",
    "    'seed': SEED,\n",
    "    'dataset_class': STL10,\n",
    "    'name': 'stl10',\n",
    "    'train_transforms': train_transforms,\n",
    "    'val_transforms': val_transforms,\n",
    "    'train_loader_params': {\n",
    "        'batch_size': 16,\n",
    "        'shuffle': True,\n",
    "        'num_workers': 0,\n",
    "        'pin_memory': False,\n",
    "        'drop_last': True,\n",
    "    },\n",
    "    'val_loader_params': {\n",
    "        'batch_size': 16,\n",
    "        'shuffle': False,\n",
    "        'num_workers': 0,\n",
    "        'pin_memory': False,\n",
    "        'drop_last': False\n",
    "    }\n",
    "}"
   ]
  },
  {
   "cell_type": "code",
   "execution_count": 11,
   "id": "5eb432fd",
   "metadata": {},
   "outputs": [
    {
     "name": "stderr",
     "output_type": "stream",
     "text": [
      "GPU available: True, used: True\n",
      "TPU available: False, using: 0 TPU cores\n",
      "IPU available: False, using: 0 IPUs\n"
     ]
    }
   ],
   "source": [
    "# Устанавливаем полносвязный слой для STL10\n",
    "hybrid_model.set_fc_model2()\n",
    "\n",
    "# Замораживаем градиенты на всех слоях до layer3 не включительно\n",
    "hybrid_model.freeze_layers('layer3')\n",
    "\n",
    "# Сбрасываем статистику обучения для графика\n",
    "hybrid_model.init_train_stats()\n",
    "\n",
    "slt10_datamodule = StandardTorchDataModule(**stl10_config_dataset)\n",
    "\n",
    "checkpoint = ModelCheckpoint(dirpath='checkpoint_second_model/', monitor='acc_val_loss', mode='max')\n",
    "callbacks = [\n",
    "            EarlyStopping('acc_val_loss', min_delta=0.005, patience=5, mode='max'),\n",
    "            TQDMProgressBar(refresh_rate=10),\n",
    "            checkpoint\n",
    "]\n",
    "\n",
    "trainer = pl.Trainer(**config_model['trainer'], callbacks=callbacks)"
   ]
  },
  {
   "cell_type": "code",
   "execution_count": 12,
   "id": "14df14ff",
   "metadata": {
    "scrolled": true
   },
   "outputs": [
    {
     "data": {
      "image/png": "[encoded data removed]",
      "text/plain": [
       "<Figure size 1080x360 with 2 Axes>"
      ]
     },
     "metadata": {
      "needs_background": "light"
     },
     "output_type": "display_data"
    }
   ],
   "source": [
    "trainer.fit(hybrid_model, slt10_datamodule)"
   ]
  },
  {
   "cell_type": "markdown",
   "id": "d16d2171",
   "metadata": {},
   "source": [
    "Наблюдаем сильное переобучение у сети. При этом веса предобученной модели помогли учиться лучше, так как без предобучения модель на первой эпохе дает результат на валидации примерно 0.2 accuracy. Модель не откатываем к наилучшим весам, так как для нашего эксперимента чем больше эпох, тем лучше проявится эффект \"катастрофического забывания\".\n",
    "\n",
    "Теперь разморозим все слои модели и обучим ее на датасете STL10 в течении 5 эпох"
   ]
  },
  {
   "cell_type": "code",
   "execution_count": 13,
   "id": "994e8291",
   "metadata": {},
   "outputs": [
    {
     "name": "stderr",
     "output_type": "stream",
     "text": [
      "GPU available: True, used: True\n",
      "TPU available: False, using: 0 TPU cores\n",
      "IPU available: False, using: 0 IPUs\n"
     ]
    }
   ],
   "source": [
    "config_model['trainer']['max_epochs'] = 5\n",
    "\n",
    "hybrid_model.unfreeze_all()\n",
    "\n",
    "slt10_datamodule = StandardTorchDataModule(**stl10_config_dataset)\n",
    "\n",
    "callbacks = [\n",
    "            TQDMProgressBar(refresh_rate=10),\n",
    "]\n",
    "\n",
    "trainer = pl.Trainer(**config_model['trainer'], callbacks=callbacks)"
   ]
  },
  {
   "cell_type": "code",
   "execution_count": 14,
   "id": "371af5b3",
   "metadata": {},
   "outputs": [
    {
     "data": {
      "image/png": "[encoded data removed]",
      "text/plain": [
       "<Figure size 1080x360 with 2 Axes>"
      ]
     },
     "metadata": {
      "needs_background": "light"
     },
     "output_type": "display_data"
    }
   ],
   "source": [
    "trainer.fit(hybrid_model, slt10_datamodule)"
   ]
  },
  {
   "cell_type": "code",
   "execution_count": 15,
   "id": "e45e575b",
   "metadata": {},
   "outputs": [
    {
     "data": {
      "application/vnd.jupyter.widget-view+json": {
       "model_id": "aec0cd5ae36b4471b80b8707f1072e21",
       "version_major": 2,
       "version_minor": 0
      },
      "text/plain": [
       "  0%|          | 0/500 [00:00<?, ?it/s]"
      ]
     },
     "metadata": {},
     "output_type": "display_data"
    },
    {
     "name": "stdout",
     "output_type": "stream",
     "text": [
      "Accuracy Score 0.740375\n"
     ]
    }
   ],
   "source": [
    "model_accuracy = check_model_accuracy(hybrid_model, slt10_datamodule.val_dataloader())\n",
    "print('Accuracy Score', model_accuracy)"
   ]
  },
  {
   "cell_type": "markdown",
   "id": "720c96b7",
   "metadata": {},
   "source": [
    "#### 2.2.2 Дообучение модели на датасете Food101\n",
    "\n",
    "Теперь вернем для модели полносвязный слой для датасета Food101 и проверим Accuracy Score."
   ]
  },
  {
   "cell_type": "code",
   "execution_count": 16,
   "id": "3e6cf9ba",
   "metadata": {},
   "outputs": [
    {
     "data": {
      "application/vnd.jupyter.widget-view+json": {
       "model_id": "0f69ba414e8541f793876037bc84e70e",
       "version_major": 2,
       "version_minor": 0
      },
      "text/plain": [
       "  0%|          | 0/1579 [00:00<?, ?it/s]"
      ]
     },
     "metadata": {},
     "output_type": "display_data"
    },
    {
     "name": "stdout",
     "output_type": "stream",
     "text": [
      "Accuracy Score 0.14514724509183027\n"
     ]
    }
   ],
   "source": [
    "# Возвращаем полносвязный слой от Food101\n",
    "hybrid_model.set_fc_model1()\n",
    "\n",
    "# Переводим модель в режим валидации\n",
    "hybrid_model.eval()\n",
    "\n",
    "model_accuracy = check_model_accuracy(hybrid_model, food101_datamodule.val_dataloader())\n",
    "print('Accuracy Score', model_accuracy)"
   ]
  },
  {
   "cell_type": "markdown",
   "id": "35423487",
   "metadata": {},
   "source": [
    "В результате модель разучилась предсказывать данные на Food101, получили значение accuracy 0.145 против 0.496 при изначальном обучении.\n",
    "\n",
    "Чтобы это исправить и попробовать увидеть проблему \"катастрофического забывания\", дообучим у модели только полносвязный слой на датасете Food101."
   ]
  },
  {
   "cell_type": "code",
   "execution_count": 17,
   "id": "875c88d1",
   "metadata": {},
   "outputs": [
    {
     "name": "stderr",
     "output_type": "stream",
     "text": [
      "GPU available: True, used: True\n",
      "TPU available: False, using: 0 TPU cores\n",
      "IPU available: False, using: 0 IPUs\n"
     ]
    }
   ],
   "source": [
    "config_model['trainer']['max_epochs'] = 100\n",
    "\n",
    "# Замораживаем градиенты на всех слоях до fc не включительно\n",
    "hybrid_model.freeze_layers('fc')\n",
    "\n",
    "# В оптимизатор передаем только полносвязный слой\n",
    "hybrid_model.init_opt_parameters('fc')\n",
    "\n",
    "# Сбрасываем статистику обучения для графика\n",
    "hybrid_model.init_train_stats()\n",
    "\n",
    "callbacks = [\n",
    "            EarlyStopping('acc_val_loss', min_delta=0.001, patience=5, mode='max'), \n",
    "            TQDMProgressBar(refresh_rate=10),\n",
    "]\n",
    "\n",
    "trainer = pl.Trainer(**config_model['trainer'], callbacks=callbacks)\n",
    "food101_datamodule = StandardTorchDataModule(**food101_config_dataset)"
   ]
  },
  {
   "cell_type": "code",
   "execution_count": 18,
   "id": "46f59d10",
   "metadata": {
    "scrolled": true
   },
   "outputs": [
    {
     "data": {
      "image/png": "[encoded data removed]",
      "text/plain": [
       "<Figure size 1080x360 with 2 Axes>"
      ]
     },
     "metadata": {
      "needs_background": "light"
     },
     "output_type": "display_data"
    }
   ],
   "source": [
    "trainer.fit(hybrid_model, food101_datamodule)"
   ]
  },
  {
   "cell_type": "markdown",
   "id": "3501e180",
   "metadata": {},
   "source": [
    "Вернув модели полносвязный слой от Food101 и обучив только его на данном датасете нам не удалось добитться прежнего качества модели accuracy 0.496 против 0.415.\n",
    "\n",
    "# Результаты\n",
    "В домашней работе провели эксперимент и смогли показать наличие проблемы \"катастрофического забывания\"."
   ]
  }
 ],
 "metadata": {
  "kernelspec": {
   "display_name": "Python 3 (ipykernel)",
   "language": "python",
   "name": "python3"
  },
  "language_info": {
   "codemirror_mode": {
    "name": "ipython",
    "version": 3
   },
   "file_extension": ".py",
   "mimetype": "text/x-python",
   "name": "python",
   "nbconvert_exporter": "python",
   "pygments_lexer": "ipython3",
   "version": "3.9.7"
  }
 },
 "nbformat": 4,
 "nbformat_minor": 5
}
