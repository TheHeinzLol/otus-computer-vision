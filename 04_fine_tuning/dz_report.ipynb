{
 "cells": [
  {
   "cell_type": "markdown",
   "id": "ff5d8109",
   "metadata": {},
   "source": [
    "# Домашнее задание №5: \"Катастрофическое забывание\"\n",
    "\n",
    "В домашней работе необходимо показать в дейсвии проблему \"катастрофического забывания\".\n",
    "\n",
    "**Описание/Пошаговая инструкция выполнения домашнего задания:**\n",
    "- Проверить качество исходной модели на ImageNette.\n",
    "- Используя код с лекции дообучить модель решать датасет CIFAR10.\n",
    "- Вернуть оригинальный последний слой модели и проверить качество на ImageNet.\n",
    "- Дообучить только последний слой на ImageNette и проверить удалось ли добиться исходного качества."
   ]
  },
  {
   "cell_type": "code",
   "execution_count": 1,
   "id": "11bd636d",
   "metadata": {},
   "outputs": [],
   "source": [
    "import random\n",
    "\n",
    "import torch\n",
    "from torch import nn\n",
    "import torch.nn.functional as F\n",
    "from torchvision.datasets import CIFAR10\n",
    "from torchvision.models import resnet18\n",
    "import torchvision.transforms as T\n",
    "from torch.utils.data import DataLoader\n",
    "from sklearn.metrics import accuracy_score\n",
    "import numpy as np\n",
    "from tqdm.notebook import tqdm\n",
    "import pytorch_lightning as pl\n",
    "from pytorch_lightning.callbacks import EarlyStopping\n",
    "from torch import optim\n",
    "import matplotlib.pyplot as plt\n",
    "from IPython import display\n",
    "\n",
    "from imagenetlib import get_imagenette_dataloader, ImageNetteDataset"
   ]
  },
  {
   "cell_type": "code",
   "execution_count": 2,
   "id": "20a7817e",
   "metadata": {},
   "outputs": [],
   "source": [
    "def set_seed(seed=None, seed_torch=True):\n",
    "    \"\"\" Фиксируем генератор случайных чисел\n",
    "    \n",
    "    Параметры\n",
    "    ---------\n",
    "    seed : int\n",
    "    seed_torch : bool\n",
    "      Если True, то будет зафиксирован PyTorch\n",
    "    \"\"\"\n",
    "    \n",
    "    if seed is None:\n",
    "        seed = np.random.choice(2 ** 32)\n",
    "    random.seed(seed)\n",
    "    np.random.seed(seed)\n",
    "    if seed_torch:\n",
    "        torch.manual_seed(seed)\n",
    "        torch.cuda.manual_seed_all(seed)\n",
    "        torch.cuda.manual_seed(seed)\n",
    "        torch.backends.cudnn.benchmark = False\n",
    "        torch.backends.cudnn.deterministic = True"
   ]
  },
  {
   "cell_type": "markdown",
   "id": "182b1510",
   "metadata": {},
   "source": [
    "## 1 Проверка качества модели на датасете Imagenette\n",
    "\n",
    "Воспользуемся функцией get_imagenette_dataloader, которая была сделана в рамках второго домашнего задания.\n",
    "Функция формирует загрузчик данных на основе датасета Imagenette по ссылке https://s3.amazonaws.com/fast-ai-imageclas/imagenette2.tgz\n",
    "\n",
    "Документацию по коду можно посмотреть в файле **imagenetlib.py**\n",
    "\n",
    "В качестве опытной модели возьмем ResNet18 из torchvision. Загрузим предобученную для ImageNet модель, сформируем загрузчик данных для валидации и найдем Accuracy Score для текущей модели."
   ]
  },
  {
   "cell_type": "code",
   "execution_count": 3,
   "id": "5219b0da",
   "metadata": {},
   "outputs": [],
   "source": [
    "resnet_model = resnet18(pretrained=True)"
   ]
  },
  {
   "cell_type": "code",
   "execution_count": 4,
   "id": "141fe1dc",
   "metadata": {},
   "outputs": [],
   "source": [
    "IMAGENETTE_DIR = r'D:\\Data Science\\datasets\\imagenette2'\n",
    "\n",
    "imagenette_val_dataloader = get_imagenette_dataloader(IMAGENETTE_DIR, image_size=224, split='val', batch_size=32,\n",
    "                                                      std=(0.229, 0.224, 0.225), mean=(0.485, 0.456, 0.406), shuffle=False)"
   ]
  },
  {
   "cell_type": "code",
   "execution_count": 5,
   "id": "48e94d6c",
   "metadata": {},
   "outputs": [],
   "source": [
    "def check_model_accuracy(model: torch.nn.Module, dataloader: torch.utils.data.DataLoader):\n",
    "    \"\"\" Подсчет Accuracy Score для модели\n",
    "    \n",
    "    Параметры\n",
    "    ---------\n",
    "    model: torch.nn.Module\n",
    "    dataloader : torch.utils.data.DataLoader\n",
    "      Загрузчик должен быть сформирован на базе класса imagenetlib.ImageNetteDataset\n",
    "      \n",
    "    Результат\n",
    "    ---------\n",
    "    accuracy_score : float\n",
    "    \"\"\"\n",
    "    \n",
    "    model.eval()\n",
    "    device = 'cuda' if torch.cuda.is_available() else 'cpu'\n",
    "    model = model.to(device)\n",
    "    batch_accuracy_list = []\n",
    "    for batch in tqdm(dataloader):\n",
    "        batch['image'] = batch['image'].to(device)\n",
    "        batch_predict = torch.argmax(model(batch['image']), axis=1)\n",
    "        batch_accuracy = accuracy_score(batch_predict.cpu(), batch['target'])\n",
    "        batch_accuracy_list.append(batch_accuracy)\n",
    "        \n",
    "    return np.mean(batch_accuracy_list)"
   ]
  },
  {
   "cell_type": "code",
   "execution_count": 6,
   "id": "d1a139e1",
   "metadata": {},
   "outputs": [
    {
     "data": {
      "application/vnd.jupyter.widget-view+json": {
       "model_id": "93a8de0a7dcf4e219889c10ac7b60a5a",
       "version_major": 2,
       "version_minor": 0
      },
      "text/plain": [
       "  0%|          | 0/123 [00:00<?, ?it/s]"
      ]
     },
     "metadata": {},
     "output_type": "display_data"
    },
    {
     "name": "stdout",
     "output_type": "stream",
     "text": [
      "Accuracy Score 0.7479674796747967\n"
     ]
    }
   ],
   "source": [
    "model_accuracy = check_model_accuracy(resnet_model, imagenette_val_dataloader)\n",
    "print('Accuracy Score', model_accuracy)"
   ]
  },
  {
   "cell_type": "markdown",
   "id": "2322b830",
   "metadata": {},
   "source": [
    "В результате мы получили значение Accuracy Score = 0.748\n",
    "\n",
    "## 2 Адаптация модели ResNet18 для обучения на датасете CIFAR10 (TransferLearning и Fine-Tuning)\n",
    "\n",
    "Что требуется сделать:\n",
    "- сохранить у модели ResNet18 текущий полносвязный слой\n",
    "- заменить у модели ResNet18 полносвязный слой на новый с выходом размера 10\n",
    "- заморозить градиент для 80% части модели\n",
    "- обучить модель на 2 эпохах с частично замороженными градиентами на датасете CIFAR10\n",
    "- разморозить все слои модели и дообучить ее на 1 эпохе на датасете CIFAR10\n",
    "\n",
    "### 2.1 Реализация классов для обучения\n",
    "#### 2.1.1 Реализация класса модели для обучения с помощью PyTorch Lighting\n",
    "\n",
    "Создадим класс CIFAR10Model для обучения модели.\n",
    "\n",
    "За основу будет браться модель ResNet18 из torchvision. Модель сохранит полносвязный слой от ImageNet и заменит его совместимым с датасетом CIFAR10.\n",
    "\n",
    "Реализуем дополнительные методы, которые потребуются нам для проведения экспериментов:\n",
    "- freeze_layers (заморозка градиента от начала модели вплоть до указанного layer_name без него самого)\n",
    "- unfreeze_all (разморозка градиентов всей модели)\n",
    "- set_fc_imagenet (устанавливает в качестве полносвязной сети предварительно сохраненный полносвяный слой для ImageNet)\n",
    "- set_fc_cifar10 (возвращает для модели полносвязный слой от CIFAR10)"
   ]
  },
  {
   "cell_type": "code",
   "execution_count": 7,
   "id": "f427eff5",
   "metadata": {},
   "outputs": [],
   "source": [
    "class CIFAR10Model(pl.LightningModule):\n",
    "    \"\"\" Модель для датасета Cifar10\n",
    "    \n",
    "    Параметры\n",
    "    ---------\n",
    "    model_name : str\n",
    "      Название модели (должен поддерживать фреймворк timm).\n",
    "      По умолчанию resnet18\n",
    "    pretrained : bool\n",
    "      Если True, то будут загружены веса для предварительно обученной модели\n",
    "      По умолчанию True.\n",
    "    learning_rate : float\n",
    "      Скорость обучения модели. По умолчанию 0.001.\n",
    "    l2_regularization : float\n",
    "      Размер L2-регуляризации, по умолчанию 0.01\n",
    "    adam_betas : tuple\n",
    "      Коэффициенты для оптимизатора Adam.\n",
    "      По умолчанию (0.99, 0.999).\n",
    "    plot_epoch_loss : bool\n",
    "      Если True, то после каждой эпохи обучения и валидации будет выводиться график с результатами обучения\n",
    "    seed : int\n",
    "    \"\"\"\n",
    "    def __init__(self, pretrained: bool =True, learning_rate: float = 0.001, \n",
    "                 l2_regularization: float = 0.01, adam_betas: (float, float) = (0.99, 0.999), \n",
    "                 plot_epoch_loss: bool = True, seed: int = None):\n",
    "        \n",
    "        super().__init__()\n",
    "        \n",
    "        if seed is not None:\n",
    "            set_seed(seed)\n",
    "        \n",
    "        self._model = resnet18(pretrained=True)\n",
    "        self._imagenet_fc_layer = self._model.fc\n",
    "        self._cifar10_fc_layer = nn.Linear(self._imagenet_fc_layer.in_features, 10)\n",
    "        self._model.fc = self._cifar10_fc_layer\n",
    "        \n",
    "        # Устанавливаем тип датасета, требуется для метода _init_opt_parameters\n",
    "        self.__dataset_type = 'cifar10'\n",
    "        self._init_opt_parameters()\n",
    "        \n",
    "        self.plot_epoch_loss = plot_epoch_loss\n",
    "        self.learning_rate = learning_rate\n",
    "        self.l2_regularization = l2_regularization\n",
    "        self.adam_betas = adam_betas\n",
    "        \n",
    "        self.init_train_stats()\n",
    "\n",
    "        self.save_hyperparameters()\n",
    "        \n",
    "    def init_train_stats(self):\n",
    "        # Словарь для хранения значения ошибок на стадии обучения и валидации\n",
    "        # Для значений типа train добавляем значение np.nan, так как при первом запуске модель вначале осуществляет\n",
    "        # шаг валидации без обучения и добавляет значения в списки типа val. Это будет считаться эпохой №0.\n",
    "        self.train_history = {\n",
    "            'train_loss': [np.nan],\n",
    "            'train_acc': [np.nan],\n",
    "            'val_loss': [],\n",
    "            'val_acc': [],\n",
    "        }\n",
    "        \n",
    "    def _init_opt_parameters(self):\n",
    "        \"\"\" Инициализируем параметры датасета в зависимости от тип датасета\n",
    "        \n",
    "        Изначально модель должна обучаться на cifar10, в этом случае передаем в оптимизатор все параметры.\n",
    "        Но для эксперимента мы дообучаем модель на ImageNette, в этом случае надо передать в оптимизатор \n",
    "        только параметры полносвязной сети.\n",
    "        \n",
    "        При смене типов датасетов с помощью методов set_fc_imagenet и set_fc_cifar10\n",
    "        меняется self.__dataset_type. Поэтому экземпляр класса будет знать,\n",
    "        для какого датасета ему нужно взять параметры оптимизатора при вызове данного метода\n",
    "        \"\"\"\n",
    "        assert self.__dataset_type in ('cifar10', 'imagenette')\n",
    "        if self.__dataset_type == 'cifar10':\n",
    "            self._opt_parameters = self._model.parameters()\n",
    "        else:\n",
    "            self._opt_parameters = self._model.fc.parameters()\n",
    "        \n",
    "    def freeze_layers(self, layer_name: str):\n",
    "        \"\"\" Заморозка градиента от начала модели \n",
    "        вплоть до указанного layer_name без него самого\n",
    "        \n",
    "        Параметры\n",
    "        ---------\n",
    "        layer_name : str\n",
    "          Название слоя, вплоть до которого нужно выполнить заморозку\n",
    "        \"\"\"\n",
    "        \n",
    "        all_layers_names = [name for name, _ in self._model.named_modules()]\n",
    "        assert layer_name in all_layers_names, \"Указанный слой отсутствует в модели\"\n",
    "        \n",
    "        for param_name, param in self._model.named_parameters():\n",
    "            if layer_name in param_name:\n",
    "                break\n",
    "            param.requires_grad = False\n",
    "            \n",
    "        # При изменении параметра requires_grad требуется инициализация \n",
    "        # параметров оптимизатора, так как предыдущие параметры исчезают\n",
    "        self._init_opt_parameters()\n",
    "            \n",
    "    def unfreeze_all(self):\n",
    "        \"\"\" Разморозка градиентов всей модели \"\"\"\n",
    "        \n",
    "        for param_name, param in self._model.named_parameters():\n",
    "            param.requires_grad = True\n",
    "            \n",
    "        # При изменении параметра requires_grad требуется инициализация \n",
    "        # параметров оптимизатора, так как предыдущие параметры исчезают\n",
    "        self._init_opt_parameters()\n",
    "            \n",
    "    def set_fc_imagenet(self):\n",
    "        \"\"\" Устанавливаем в качестве полносвязной сети\n",
    "        предварительно сохраненный полносвяный слой ImageNet\n",
    "        \n",
    "        Текущий полносвязный слой с его весами для CIFAR10 сохраняется.\n",
    "        Его можно вернуть через метод set_fc_cifar10()\n",
    "        \"\"\"\n",
    "        self._cifar10_fc_layer = self._model.fc\n",
    "        self._model.fc = self._imagenet_fc_layer\n",
    "        \n",
    "        # Переинициализируем параметры для оптимизатора. Ставим всю модель\n",
    "        self.__dataset_type = 'imagenette'\n",
    "        self._init_opt_parameters()\n",
    "            \n",
    "    def set_fc_cifar10(self):\n",
    "        \"\"\" Возвращаем для модели полносвязный слой от CIFAR10\"\"\"\n",
    "        \n",
    "        self._imagenet_fc_layer = self._model.fc\n",
    "        self._model.fc = self._cifar10_fc_layer\n",
    "        \n",
    "        # Переинициализируем параметры для оптимизатора. Ставим только полносвязный слой\n",
    "        self.__dataset_type = 'cifar10'\n",
    "        self._init_opt_parameters()\n",
    "        \n",
    "    def forward(self, x_in: torch.tensor):\n",
    "        forward_data = self._model(x_in)\n",
    "        return forward_data\n",
    "\n",
    "    def configure_optimizers(self):\n",
    "        \"\"\"Конфигурация оптимизатора и планировщика скорости обучения\"\"\"\n",
    "            \n",
    "        optimizer = optim.AdamW(self._opt_parameters, betas=self.adam_betas, lr=self.learning_rate,\n",
    "                                weight_decay=self.l2_regularization)\n",
    "        sheduler = optim.lr_scheduler.CosineAnnealingWarmRestarts(optimizer,\n",
    "                                                                  T_0=20,\n",
    "                                                                  eta_min=1e-4)\n",
    "\n",
    "        return [optimizer], [sheduler]\n",
    "\n",
    "    def _share_step(self, batch: dict, batch_idx: int, mode: str = 'train'):\n",
    "        \"\"\" Общий шаг для обучения, валидации и теста\n",
    "        Параметры\n",
    "        ---------\n",
    "        batch : dict\n",
    "          Батч-словарь в следующем формате:\n",
    "          {\n",
    "          'img': список тензоров изображения размером N x C x H x W,\n",
    "          'image_path': список путей к файлам изображений,\n",
    "          'target': список целевых значений,\n",
    "          'parrot_name': список человекочитаемых имен попугаев,\n",
    "          }\n",
    "        batch_idx : int\n",
    "          Номер батча\n",
    "        mode : str\n",
    "          Режим. Используется только для префикса названий ошибок в логе.\n",
    "          По умолчанию train\n",
    "        \"\"\"\n",
    "\n",
    "        # Датасет CIFAR10 генерирует кортежи\n",
    "        # Датасет ImageNette генерирует словари\n",
    "        if isinstance(batch, dict):\n",
    "            batch_images = batch['image']\n",
    "            target_true = batch['target']\n",
    "        else:\n",
    "            batch_images, target_true = batch\n",
    "            \n",
    "        target_pred = self(batch_images)\n",
    "\n",
    "        # Считаем ошибку Binary Cross Entropy и логируем ее\n",
    "        cross_entropy_loss = F.cross_entropy(target_pred, target_true)\n",
    "        self.log(f'cross_entropy_{mode}_loss', cross_entropy_loss, prog_bar=True)\n",
    "        \n",
    "        acc_loss = accuracy_score(target_true.detach().cpu(), np.argmax(target_pred.detach().cpu(), axis=1).flatten())\n",
    "        self.log(f'acc_{mode}_loss', acc_loss, prog_bar=True)\n",
    "\n",
    "        return {'loss': cross_entropy_loss, 'acc_loss': acc_loss}\n",
    "\n",
    "    def training_step(self, batch: dict, batch_idx: int):\n",
    "        \"\"\"Шаг обучения\"\"\"\n",
    "        return self._share_step(batch, batch_idx, mode='train')\n",
    "\n",
    "    def training_epoch_end(self, outputs: list):\n",
    "        \"\"\"Действия после окончания каждой эпохи обучения\n",
    "        Параметры\n",
    "        ---------\n",
    "        outputs : list\n",
    "          Список словарей. Каждый словарь - результат функции self._share_step для определенного батча на шаге обучения\n",
    "        \"\"\"\n",
    "\n",
    "        # Считаем средние ошибки loss и acc_loss по эпохе\n",
    "        avg_train_loss = torch.tensor([x['loss'] for x in outputs]).detach().mean()\n",
    "        avg_acc_loss = torch.tensor([x['acc_loss'] for x in outputs]).detach().mean()\n",
    "\n",
    "        # Добавляем средние ошибки в словарь статистики обучения, используется для построение графиков\n",
    "        self.train_history['train_loss'].append(avg_train_loss.numpy().item())\n",
    "        self.train_history['train_acc'].append(avg_acc_loss.numpy().item())\n",
    "\n",
    "        # Если включено отображение графика обучения в конце эпохи, то рисуем графики\n",
    "        if self.plot_epoch_loss:\n",
    "            self.plot_history_loss()\n",
    "\n",
    "    def validation_step(self, batch: dict, batch_idx: int):\n",
    "        \"\"\" Шаг валидации \"\"\"\n",
    "        return self._share_step(batch, batch_idx, mode='val')\n",
    "\n",
    "    def validation_epoch_end(self, outputs: list):\n",
    "        \"\"\"Действия после окончания каждой эпохи валидации\n",
    "        Параметры\n",
    "        ---------\n",
    "        outputs : list\n",
    "          Список словарей.\n",
    "          Каждый словарь - результат функции self._share_step для определенного батча на шаге валидации\n",
    "        \"\"\"\n",
    "\n",
    "        # Считаем средние ошибки loss и rmse_loss по эпохе\n",
    "        avg_val_loss = torch.tensor([x['loss'] for x in outputs]).detach().mean()\n",
    "        avg_acc_loss = torch.tensor([x['acc_loss'] for x in outputs]).detach().mean()\n",
    "        \n",
    "        # Логируем ошибку валидации\n",
    "        self.log(f'val_loss', avg_val_loss, prog_bar=True)\n",
    "\n",
    "        # Добавляем средние ошибки в словарь статистики обучения, используется для построение графиков\n",
    "        self.train_history['val_loss'].append(avg_val_loss.numpy().item())\n",
    "        self.train_history['val_acc'].append(avg_acc_loss.numpy().item())\n",
    "\n",
    "        # Если включено отображение графика обучения в конце эпохи, то рисуем графики\n",
    "        if self.plot_epoch_loss:\n",
    "            self.plot_history_loss()\n",
    "\n",
    "    def plot_history_loss(self, clear_output: bool = True):\n",
    "        \"\"\" Функция построения графика обучения в конце эпохи\n",
    "        \n",
    "        Параметры\n",
    "        clear_output : bool\n",
    "          Если True, то после каждой эпохи график будет обновляться,\n",
    "          а не печататься новый.\n",
    "        \"\"\"\n",
    "\n",
    "        fig, axes = plt.subplots(1, 2, figsize=(15, 5))\n",
    "\n",
    "        axes[0].plot(np.arange(0, len(self.train_history['train_loss'])),\n",
    "                     self.train_history['train_loss'],\n",
    "                     label=\"train_loss\")\n",
    "        axes[0].scatter(np.arange(0, len(self.train_history['train_loss'])),\n",
    "                     self.train_history['train_loss'])\n",
    "        axes[0].plot(np.arange(0, len(self.train_history['val_loss'])),\n",
    "                     self.train_history['val_loss'],\n",
    "                     label=\"val_loss\")\n",
    "        axes[0].scatter(np.arange(0, len(self.train_history['val_loss'])),\n",
    "                     self.train_history['val_loss'])\n",
    "        axes[0].legend(loc='best')\n",
    "        axes[0].set_xlabel(\"epochs\")\n",
    "        axes[0].set_ylabel(\"loss\")\n",
    "        if len(self.train_history['val_loss'])> 1:\n",
    "            val_loss_epoch_min = np.argmin(self.train_history['val_loss'][1:]) + 1\n",
    "            val_loss_min = self.train_history['val_loss'][val_loss_epoch_min]\n",
    "            val_loss_min = round(val_loss_min, 3) if not np.isnan(val_loss_min) else val_loss_min\n",
    "            title_min_vals = f'\\nValidation minimum {val_loss_min} on epoch {val_loss_epoch_min}'\n",
    "        else:\n",
    "            title_min_vals = \"\"\n",
    "        axes[0].set_title('MODEL LOSS: CROSS ENTROPY'+title_min_vals)\n",
    "        axes[0].grid()\n",
    "\n",
    "        axes[1].plot(np.arange(0, len(self.train_history['train_acc'])),\n",
    "                     self.train_history['train_acc'], label=\"train_acc\")\n",
    "        axes[1].scatter(np.arange(0, len(self.train_history['train_acc'])),\n",
    "                     self.train_history['train_acc'])\n",
    "        axes[1].plot(np.arange(0, len(self.train_history['val_acc'])),\n",
    "                     self.train_history['val_acc'], label=\"val_acc\")\n",
    "        axes[1].scatter(np.arange(0, len(self.train_history['val_acc'])),\n",
    "                     self.train_history['val_acc'])\n",
    "        axes[1].legend(loc='best')\n",
    "        axes[1].set_xlabel(\"epochs\")\n",
    "        axes[1].set_ylabel(\"accuracy\")\n",
    "        \n",
    "        if len(self.train_history['val_acc'])> 1:\n",
    "            val_acc_epoch_max = np.argmax(self.train_history['val_acc'][1:]) + 1\n",
    "            val_acc_max = self.train_history['val_acc'][val_acc_epoch_max]\n",
    "            val_acc_max = round(val_acc_max, 3) if not np.isnan(val_acc_max) else val_acc_max\n",
    "            title_max_vals = f'\\nValidation maximum {val_acc_max} on epoch {val_acc_epoch_max}'\n",
    "        else:\n",
    "            title_max_vals = \"\"\n",
    "        axes[1].set_title('MONITORING LOSS: Accuracy'+title_max_vals)\n",
    "        axes[1].grid()\n",
    "\n",
    "        plt.show()\n",
    "        if clear_output:\n",
    "            display.clear_output(wait=True)"
   ]
  },
  {
   "cell_type": "markdown",
   "id": "054e15e7",
   "metadata": {},
   "source": [
    "#### 2.1.2 Реализация загрузчика датасета CIFAR10 PyTorch Lighting"
   ]
  },
  {
   "cell_type": "code",
   "execution_count": 8,
   "id": "0e246e3e",
   "metadata": {},
   "outputs": [],
   "source": [
    "class CIFAR10DataLoader(pl.LightningDataModule):\n",
    "    \"\"\" Загрузчик PyTorch Lighting для датасета CIFAR10\n",
    "    \n",
    "    Параметры\n",
    "    ---------\n",
    "    train_loader_params : dict\n",
    "      Словарь для параметров DataLoader обучающего датасета.\n",
    "      Имеет следующие ключи:\n",
    "        - batch_size (по умолчанию 16)\n",
    "        - shuffle (по умолчанию True)\n",
    "        - num_workers (по умолчанию 2)\n",
    "        - drop_last (по умолчанию True)\n",
    "    val_loader_params : dict\n",
    "      Словарь для параметров DataLoader валидационного датасета.\n",
    "      Имеет следующие ключи:\n",
    "        - batch_size (по умолчанию 16)\n",
    "        - shuffle (по умолчанию False)\n",
    "        - num_workers (по умолчанию 2)\n",
    "        - drop_last (по умолчанию False)\n",
    "    seed : int\n",
    "      Фиксация генератора случайных чисел.\n",
    "    \"\"\"\n",
    "\n",
    "    def __init__(self, train_loader_params=None, val_loader_params=None, seed=None):\n",
    "\n",
    "        super().__init__()\n",
    "\n",
    "        if seed is not None:\n",
    "            set_seed(seed)\n",
    "\n",
    "        if not train_loader_params:\n",
    "            train_loader_params = {\n",
    "                'batch_size': 16,\n",
    "                'shuffle': True,\n",
    "                'num_workers': 2,\n",
    "                'drop_last': True,\n",
    "            }\n",
    "\n",
    "        if not val_loader_params:\n",
    "            val_loader_params = {\n",
    "                'batch_size': 16,\n",
    "                'shuffle': False,\n",
    "                'num_workers': 2,\n",
    "                'drop_last': False\n",
    "            }\n",
    "\n",
    "        self.train_loader_params = train_loader_params\n",
    "        self.val_loader_params = val_loader_params\n",
    "        \n",
    "        self._transform = T.Compose(\n",
    "                [T.Resize([224,224]),\n",
    "                 T.PILToTensor(),\n",
    "                 T.ConvertImageDtype(torch.float32),\n",
    "                 T.Normalize(std=(0.229, 0.224, 0.225), mean=(0.485, 0.456, 0.406)),\n",
    "                ]\n",
    "        )\n",
    "        \n",
    "    def setup(self, stage=None):\n",
    "        self._cifar_train_dataset = CIFAR10('cifar10/train', train=True, download=True, transform=self._transform)\n",
    "        self._cifar_val_dataset = CIFAR10('cifar10/val', train=False, download=True, transform=self._transform)\n",
    "\n",
    "    def train_dataloader(self):\n",
    "        return DataLoader(self._cifar_train_dataset, batch_size=self.train_loader_params['batch_size'],\n",
    "                          shuffle=self.train_loader_params['shuffle'], drop_last=self.train_loader_params['drop_last'],\n",
    "                          num_workers=self.train_loader_params['num_workers'])\n",
    "\n",
    "    def val_dataloader(self):\n",
    "        return DataLoader(self._cifar_val_dataset, batch_size=self.val_loader_params['batch_size'],\n",
    "                          drop_last=self.val_loader_params['drop_last'], shuffle=self.val_loader_params['shuffle'],\n",
    "                          num_workers=self.val_loader_params['num_workers'])"
   ]
  },
  {
   "cell_type": "markdown",
   "id": "093d0d71",
   "metadata": {},
   "source": [
    "#### 2.1.3 Реализация загрузчика датасета ImageNette для PyTorch Lighting"
   ]
  },
  {
   "cell_type": "code",
   "execution_count": 9,
   "id": "57bafafa",
   "metadata": {},
   "outputs": [],
   "source": [
    "class ImageNetteDataLoader(pl.LightningDataModule):\n",
    "    \"\"\" Загрузчик PyTorch Lighting для датасета ImageNette\n",
    "    \n",
    "    Параметры\n",
    "    ---------\n",
    "    imagenette_path : str\n",
    "      Путь к папке с датасетом ImageNette\n",
    "    train_loader_params : dict\n",
    "      Словарь для параметров DataLoader обучающего датасета.\n",
    "      Имеет следующие ключи:\n",
    "        - batch_size (по умолчанию 16)\n",
    "        - shuffle (по умолчанию True)\n",
    "        - num_workers (по умолчанию 2)\n",
    "        - drop_last (по умолчанию True)\n",
    "    val_loader_params : dict\n",
    "      Словарь для параметров DataLoader валидационного датасета.\n",
    "      Имеет следующие ключи:\n",
    "        - batch_size (по умолчанию 16)\n",
    "        - shuffle (по умолчанию False)\n",
    "        - num_workers (по умолчанию 2)\n",
    "        - drop_last (по умолчанию False)\n",
    "    seed : int\n",
    "      Фиксация генератора случайных чисел.\n",
    "    \"\"\"\n",
    "\n",
    "    def __init__(self, imagenette_path, train_loader_params=None, val_loader_params=None, seed=None):\n",
    "\n",
    "        super().__init__()\n",
    "\n",
    "        if seed is not None:\n",
    "            set_seed(seed)\n",
    "            \n",
    "        self.imagenette_path = imagenette_path\n",
    "\n",
    "        if not train_loader_params:\n",
    "            train_loader_params = {\n",
    "                'batch_size': 16,\n",
    "                'shuffle': True,\n",
    "                'num_workers': 2,\n",
    "                'drop_last': True,\n",
    "            }\n",
    "\n",
    "        if not val_loader_params:\n",
    "            val_loader_params = {\n",
    "                'batch_size': 16,\n",
    "                'shuffle': False,\n",
    "                'num_workers': 2,\n",
    "                'drop_last': False\n",
    "            }\n",
    "\n",
    "        self.train_loader_params = train_loader_params\n",
    "        self.val_loader_params = val_loader_params\n",
    "        \n",
    "        self._transform = T.Compose(\n",
    "                [T.Resize([224,224]),\n",
    "                 T.PILToTensor(),\n",
    "                 T.ConvertImageDtype(torch.float32),\n",
    "                 T.Normalize(std=(0.229, 0.224, 0.225), mean=(0.485, 0.456, 0.406)),\n",
    "                ]\n",
    "        )\n",
    "        \n",
    "    def setup(self, stage=None):\n",
    "        self._imagenette_train_dataset = ImageNetteDataset(imagenette_path=self.imagenette_path, image_size=224,\n",
    "                                                      std=(0.229, 0.224, 0.225), mean=(0.485, 0.456, 0.406))\n",
    "        self._imagenette_train_dataset.set_split('train')\n",
    "        \n",
    "        self._imagenette_val_dataset = ImageNetteDataset(imagenette_path=self.imagenette_path, image_size=224,\n",
    "                                                      std=(0.229, 0.224, 0.225), mean=(0.485, 0.456, 0.406))\n",
    "        self._imagenette_val_dataset.set_split('val')\n",
    "\n",
    "    def train_dataloader(self):\n",
    "        return DataLoader(self._imagenette_train_dataset, batch_size=self.train_loader_params['batch_size'],\n",
    "                          shuffle=self.train_loader_params['shuffle'], drop_last=self.train_loader_params['drop_last'],\n",
    "                          num_workers=self.train_loader_params['num_workers'])\n",
    "\n",
    "    def val_dataloader(self):\n",
    "        return DataLoader(self._imagenette_val_dataset, batch_size=self.val_loader_params['batch_size'],\n",
    "                          drop_last=self.val_loader_params['drop_last'], shuffle=self.val_loader_params['shuffle'],\n",
    "                          num_workers=self.val_loader_params['num_workers'])"
   ]
  },
  {
   "cell_type": "markdown",
   "id": "5e6b01e6",
   "metadata": {},
   "source": [
    "### 2.2 Проведение эксперимента\n",
    "\n",
    "#### 2.2.1 Обучение модели на датасете CIFAR10\n",
    "\n",
    "Заморозим все градиенты модели, которые предшествуют уровню с именем \"layer4\" и обучим модель с предзагруженными весами от ImageNet на 2 эпохах с датасетом CIFAR10"
   ]
  },
  {
   "cell_type": "code",
   "execution_count": 10,
   "id": "ad0f44d6",
   "metadata": {},
   "outputs": [],
   "source": [
    "SEED = 42\n",
    "\n",
    "config = {'seed': SEED,\n",
    "          'model': {\n",
    "              'plot_epoch_loss': True,\n",
    "              'learning_rate': 0.0001, \n",
    "              'l2_regularization': 0.01,\n",
    "              'adam_betas': (0.99, 0.999),\n",
    "              'pretrained': False,\n",
    "              'seed': SEED,\n",
    "          },\n",
    "          'dataloader': {\n",
    "              'seed': SEED,\n",
    "              'train_loader_params': {\n",
    "                    'batch_size': 16,\n",
    "                    'shuffle': True,\n",
    "                    'num_workers': 0,\n",
    "                    'pin_memory': False,\n",
    "                    'drop_last': True,\n",
    "              },\n",
    "              'val_loader_params': {\n",
    "                    'batch_size': 1,\n",
    "                    'shuffle': False,\n",
    "                    'num_workers': 0,\n",
    "                    'pin_memory': False,\n",
    "                    'drop_last': False\n",
    "              }\n",
    "          },\n",
    "         'trainer': {\n",
    "              'max_epochs': 2,\n",
    "              'gpus': 1 if torch.cuda.is_available() else 0,\n",
    "              'progress_bar_refresh_rate': 10,\n",
    "              'resume_from_checkpoint': None,\n",
    "          },\n",
    "}"
   ]
  },
  {
   "cell_type": "code",
   "execution_count": 11,
   "id": "5eb432fd",
   "metadata": {},
   "outputs": [
    {
     "name": "stderr",
     "output_type": "stream",
     "text": [
      "C:\\ProgramData\\Anaconda3\\lib\\site-packages\\pytorch_lightning\\trainer\\connectors\\callback_connector.py:90: LightningDeprecationWarning: Setting `Trainer(progress_bar_refresh_rate=10)` is deprecated in v1.5 and will be removed in v1.7. Please pass `pytorch_lightning.callbacks.progress.TQDMProgressBar` with `refresh_rate` directly to the Trainer's `callbacks` argument instead. Or, to disable the progress bar pass `enable_progress_bar = False` to the Trainer.\n",
      "  rank_zero_deprecation(\n",
      "GPU available: True, used: True\n",
      "TPU available: False, using: 0 TPU cores\n",
      "IPU available: False, using: 0 IPUs\n"
     ]
    }
   ],
   "source": [
    "model_resnet18 = CIFAR10Model(**config['model'])\n",
    "# Замораживаем градиенты на всех слоях до layer4 не включительно\n",
    "model_resnet18.freeze_layers('layer4')\n",
    "\n",
    "dataloader = CIFAR10DataLoader(**config['dataloader'])\n",
    "trainer = pl.Trainer(**config['trainer'])"
   ]
  },
  {
   "cell_type": "code",
   "execution_count": 12,
   "id": "14df14ff",
   "metadata": {},
   "outputs": [
    {
     "data": {
      "image/png": "[encoded data removed]",
      "text/plain": [
       "<Figure size 1080x360 with 2 Axes>"
      ]
     },
     "metadata": {
      "needs_background": "light"
     },
     "output_type": "display_data"
    }
   ],
   "source": [
    "trainer.fit(model_resnet18, dataloader)"
   ]
  },
  {
   "cell_type": "code",
   "execution_count": 13,
   "id": "de51b65d",
   "metadata": {},
   "outputs": [],
   "source": [
    "torch.save(model_resnet18.state_dict(), 'cifar10_model_70prc_freeze.pth')"
   ]
  },
  {
   "cell_type": "markdown",
   "id": "30b53b3c",
   "metadata": {},
   "source": [
    "В результате обучения с частично замороженными градиентами нам удалось достичь значения Accuracy Score на валидации 0.906.\n",
    "\n",
    "Теперь разморозим все градиенты и дообучим модель дополнительно на одной эпохе."
   ]
  },
  {
   "cell_type": "code",
   "execution_count": 14,
   "id": "963f3e0e",
   "metadata": {},
   "outputs": [
    {
     "name": "stderr",
     "output_type": "stream",
     "text": [
      "C:\\ProgramData\\Anaconda3\\lib\\site-packages\\pytorch_lightning\\trainer\\connectors\\callback_connector.py:90: LightningDeprecationWarning: Setting `Trainer(progress_bar_refresh_rate=10)` is deprecated in v1.5 and will be removed in v1.7. Please pass `pytorch_lightning.callbacks.progress.TQDMProgressBar` with `refresh_rate` directly to the Trainer's `callbacks` argument instead. Or, to disable the progress bar pass `enable_progress_bar = False` to the Trainer.\n",
      "  rank_zero_deprecation(\n",
      "GPU available: True, used: True\n",
      "TPU available: False, using: 0 TPU cores\n",
      "IPU available: False, using: 0 IPUs\n"
     ]
    }
   ],
   "source": [
    "# размораживаем градиенты на всех слоях\n",
    "model_resnet18.unfreeze_all()\n",
    "\n",
    "# Сбрасываем статистику обучения для графика\n",
    "model_resnet18.init_train_stats()\n",
    "\n",
    "dataloader = CIFAR10DataLoader(**config['dataloader'])\n",
    "config['trainer']['max_epochs'] = 1\n",
    "trainer = pl.Trainer(**config['trainer'])"
   ]
  },
  {
   "cell_type": "code",
   "execution_count": 15,
   "id": "7bf30bf6",
   "metadata": {},
   "outputs": [
    {
     "data": {
      "image/png": "[encoded data removed]",
      "text/plain": [
       "<Figure size 1080x360 with 2 Axes>"
      ]
     },
     "metadata": {
      "needs_background": "light"
     },
     "output_type": "display_data"
    }
   ],
   "source": [
    "trainer.fit(model_resnet18, dataloader)"
   ]
  },
  {
   "cell_type": "markdown",
   "id": "5a80d482",
   "metadata": {},
   "source": [
    "На нулевой эпохе pytorch lighting делает быструю валидацию на небольшой части датасета, поэтому видим значение accuracy, близкое к 1. При этом на первой эпохе мы видим значение accuracy на валидации между 0.93 и 0.92. Это значение лучше, чем предыдущее 0.906."
   ]
  },
  {
   "cell_type": "code",
   "execution_count": 16,
   "id": "b0904646",
   "metadata": {},
   "outputs": [],
   "source": [
    "torch.save(model_resnet18.state_dict(), 'cifar10_model_unfreeze.pth')"
   ]
  },
  {
   "cell_type": "markdown",
   "id": "720c96b7",
   "metadata": {},
   "source": [
    "#### 2.2.2 Дообучение модели на датасете ImageNette\n",
    "\n",
    "Теперь вернем для модели полносвязный слой для датасета ImageNet и проверим Accuracy Score."
   ]
  },
  {
   "cell_type": "code",
   "execution_count": 17,
   "id": "3e6cf9ba",
   "metadata": {},
   "outputs": [
    {
     "data": {
      "application/vnd.jupyter.widget-view+json": {
       "model_id": "97b0b014a76b42de8e63a1996bd5ec90",
       "version_major": 2,
       "version_minor": 0
      },
      "text/plain": [
       "  0%|          | 0/123 [00:00<?, ?it/s]"
      ]
     },
     "metadata": {},
     "output_type": "display_data"
    },
    {
     "name": "stdout",
     "output_type": "stream",
     "text": [
      "Accuracy Score 0.0007621951219512195\n"
     ]
    }
   ],
   "source": [
    "# Устанавливаем полносвязный слой для ImageNet\n",
    "# !!! После выполнения метода set_fc_imagenet в оптимизатор \n",
    "# !!! будут передаваться только параметры полносвязного слоя\n",
    "model_resnet18.set_fc_imagenet()\n",
    "\n",
    "# Переводим модель в режим валидации\n",
    "model_resnet18.eval()\n",
    "\n",
    "model_accuracy = check_model_accuracy(model_resnet18, imagenette_val_dataloader)\n",
    "print('Accuracy Score', model_accuracy)"
   ]
  },
  {
   "cell_type": "markdown",
   "id": "35423487",
   "metadata": {},
   "source": [
    "В результате модель разучилась предсказывать данные на ImageNette, получили значение accuracy на валидации всего 0.00076.\n",
    "\n",
    "Чтобы это исправить и попробовать увидеть проблему \"катастрофического забывания\", дообучим у модели только полносвязный слой на датасете ImageNette. Полносвязный слой берем от исходной предзагруженной модели.\n",
    "\n",
    "Дообучим модель в течении 3 эпох на датасете ImageNette"
   ]
  },
  {
   "cell_type": "code",
   "execution_count": 18,
   "id": "d79018aa",
   "metadata": {},
   "outputs": [],
   "source": [
    "config = {'seed': SEED,\n",
    "          'model': {\n",
    "              'plot_epoch_loss': True,\n",
    "              'learning_rate': 0.0001, \n",
    "              'l2_regularization': 0.01,\n",
    "              'adam_betas': (0.99, 0.999),\n",
    "              'pretrained': False,\n",
    "              'seed': SEED,\n",
    "          },\n",
    "          'dataloader': {\n",
    "              'imagenette_path': IMAGENETTE_DIR,\n",
    "              'seed': SEED,\n",
    "              'train_loader_params': {\n",
    "                    'batch_size': 16,\n",
    "                    'shuffle': True,\n",
    "                    'num_workers': 0,\n",
    "                    'pin_memory': False,\n",
    "                    'drop_last': True,\n",
    "              },\n",
    "              'val_loader_params': {\n",
    "                    'batch_size': 1,\n",
    "                    'shuffle': False,\n",
    "                    'num_workers': 0,\n",
    "                    'pin_memory': False,\n",
    "                    'drop_last': False\n",
    "              }\n",
    "          },\n",
    "         'trainer': {\n",
    "              'max_epochs': 3,\n",
    "              'gpus': 1 if torch.cuda.is_available() else 0,\n",
    "              'progress_bar_refresh_rate': 10,\n",
    "              'resume_from_checkpoint': None,\n",
    "          },\n",
    "}"
   ]
  },
  {
   "cell_type": "code",
   "execution_count": 19,
   "id": "875c88d1",
   "metadata": {},
   "outputs": [
    {
     "name": "stderr",
     "output_type": "stream",
     "text": [
      "C:\\ProgramData\\Anaconda3\\lib\\site-packages\\pytorch_lightning\\trainer\\connectors\\callback_connector.py:90: LightningDeprecationWarning: Setting `Trainer(progress_bar_refresh_rate=10)` is deprecated in v1.5 and will be removed in v1.7. Please pass `pytorch_lightning.callbacks.progress.TQDMProgressBar` with `refresh_rate` directly to the Trainer's `callbacks` argument instead. Or, to disable the progress bar pass `enable_progress_bar = False` to the Trainer.\n",
      "  rank_zero_deprecation(\n",
      "GPU available: True, used: True\n",
      "TPU available: False, using: 0 TPU cores\n",
      "IPU available: False, using: 0 IPUs\n"
     ]
    }
   ],
   "source": [
    "# Замораживаем градиенты на всех слоях до fc не включительно\n",
    "model_resnet18.freeze_layers('fc')\n",
    "\n",
    "# Сбрасываем статистику обучения для графика\n",
    "model_resnet18.init_train_stats()\n",
    "\n",
    "trainer = pl.Trainer(**config['trainer'])\n",
    "dataloader = ImageNetteDataLoader(**config['dataloader'])"
   ]
  },
  {
   "cell_type": "code",
   "execution_count": 20,
   "id": "46f59d10",
   "metadata": {
    "scrolled": true
   },
   "outputs": [
    {
     "data": {
      "image/png": "[encoded data removed]",
      "text/plain": [
       "<Figure size 1080x360 with 2 Axes>"
      ]
     },
     "metadata": {
      "needs_background": "light"
     },
     "output_type": "display_data"
    }
   ],
   "source": [
    "trainer.fit(model_resnet18, dataloader)"
   ]
  },
  {
   "cell_type": "code",
   "execution_count": 21,
   "id": "4dc347cd",
   "metadata": {},
   "outputs": [],
   "source": [
    "torch.save(model_resnet18.state_dict(), 'imagenette_model.pth')"
   ]
  },
  {
   "cell_type": "markdown",
   "id": "b9fe868c",
   "metadata": {},
   "source": [
    "После 3 эпох дообучения с градиентами только на полносвязном слое, мы смогли добиться лучшего результата: 0.836 против 0.748.\n",
    "\n",
    "Проверим, что у нас нет ошибки. Перед дообучением модели на ImageNette мы сохранили веса модели в файл cifar10_model.pth. А после дообучения на ImageNette сохранили веса в файл imagenette_model.pth. Загрузим обе модели и сравним значения весов без полносвязного слоя. Если они совпадают, то у нас ошибки нет."
   ]
  },
  {
   "cell_type": "code",
   "execution_count": 22,
   "id": "cc13a826",
   "metadata": {},
   "outputs": [],
   "source": [
    "model_cifar10 = CIFAR10Model(**config['model'])\n",
    "model_cifar10.load_state_dict(torch.load('cifar10_model_unfreeze.pth'))\n",
    "\n",
    "model_imagenette = CIFAR10Model(**config['model'])\n",
    "model_imagenette.set_fc_imagenet()\n",
    "model_imagenette.load_state_dict(torch.load('imagenette_model.pth'))\n",
    "\n",
    "params_allclose_list = []\n",
    "for (name1, p1), (name1, p2) in zip(model_imagenette._model.named_parameters(), model_cifar10._model.named_parameters()):\n",
    "    if 'fc' in name1:\n",
    "        break\n",
    "    params_allclose_list.append(np.allclose(p1.detach().numpy(), p2.detach().numpy()))\n",
    "    \n",
    "assert all(params_allclose_list) == True\n",
    "assert model_imagenette._model.fc.out_features == 1000\n",
    "assert model_cifar10._model.fc.out_features == 10"
   ]
  },
  {
   "cell_type": "markdown",
   "id": "abbb0152",
   "metadata": {},
   "source": [
    "Ошибки не произошло, поэтому считаем, что ошибок в эксперименте нет и с \"катастрофическим забыванием\" в данной ситуации столкнуться не удалось.\n",
    "\n",
    "А теперь попробуем дообучить модель на ImageNette, которая обучалась с частичной заморозкой. Если в этом случае мы получим результаты лучше, то мы сможем доказать существование \"катастрофического забывания\""
   ]
  },
  {
   "cell_type": "code",
   "execution_count": 23,
   "id": "459f7d48",
   "metadata": {},
   "outputs": [
    {
     "name": "stderr",
     "output_type": "stream",
     "text": [
      "C:\\ProgramData\\Anaconda3\\lib\\site-packages\\pytorch_lightning\\trainer\\connectors\\callback_connector.py:90: LightningDeprecationWarning: Setting `Trainer(progress_bar_refresh_rate=10)` is deprecated in v1.5 and will be removed in v1.7. Please pass `pytorch_lightning.callbacks.progress.TQDMProgressBar` with `refresh_rate` directly to the Trainer's `callbacks` argument instead. Or, to disable the progress bar pass `enable_progress_bar = False` to the Trainer.\n",
      "  rank_zero_deprecation(\n",
      "GPU available: True, used: True\n",
      "TPU available: False, using: 0 TPU cores\n",
      "IPU available: False, using: 0 IPUs\n"
     ]
    }
   ],
   "source": [
    "# Инициализируем модель\n",
    "model_cifar10 = CIFAR10Model(**config['model'])\n",
    "\n",
    "# Загружаем веса до обучения на датасете CIFAR10 с полной разморозкой\n",
    "model_cifar10.load_state_dict(torch.load('cifar10_model_70prc_freeze.pth'))\n",
    "\n",
    "# Меняем полносвязный слой от модели ImageNette\n",
    "model_cifar10.set_fc_imagenet()\n",
    "\n",
    "# Замораживаем градиенты на всех слоях до fc не включительно\n",
    "model_cifar10.freeze_layers('fc')\n",
    "\n",
    "# Сбрасываем статистику обучения для графика\n",
    "model_cifar10.init_train_stats()\n",
    "\n",
    "trainer = pl.Trainer(**config['trainer'])\n",
    "dataloader = ImageNetteDataLoader(**config['dataloader'])"
   ]
  },
  {
   "cell_type": "code",
   "execution_count": 24,
   "id": "341c0549",
   "metadata": {},
   "outputs": [
    {
     "data": {
      "image/png": "[encoded data removed]",
      "text/plain": [
       "<Figure size 1080x360 with 2 Axes>"
      ]
     },
     "metadata": {
      "needs_background": "light"
     },
     "output_type": "display_data"
    }
   ],
   "source": [
    "trainer.fit(model_cifar10, dataloader)"
   ]
  },
  {
   "cell_type": "markdown",
   "id": "2c0d7752",
   "metadata": {},
   "source": [
    "В результате при обучении модели на ImageNette, у которой градиенты не размораживались полностью, мы получили более лучшие результаты, чем с моделью после полной разморозки: 0.921 против 0.836.\n",
    "\n",
    "Хотя обе дообученные модели показали более лучший результат, чем изначальная модель, разница в их качестве показывает наличие проблемы \"катастрофического забывания\". Модель, которая обучалась после полной разморозки, показала более худшие результаты и забыла часть исходных данных.\n",
    "\n",
    "## Результаты\n",
    "\n",
    "В домашней работе провели эксперимент и смогли показать наличие проблемы \"катастрофического забывания\"."
   ]
  }
 ],
 "metadata": {
  "kernelspec": {
   "display_name": "Python 3 (ipykernel)",
   "language": "python",
   "name": "python3"
  },
  "language_info": {
   "codemirror_mode": {
    "name": "ipython",
    "version": 3
   },
   "file_extension": ".py",
   "mimetype": "text/x-python",
   "name": "python",
   "nbconvert_exporter": "python",
   "pygments_lexer": "ipython3",
   "version": "3.9.7"
  }
 },
 "nbformat": 4,
 "nbformat_minor": 5
}
